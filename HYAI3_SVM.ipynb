{
  "nbformat": 4,
  "nbformat_minor": 0,
  "metadata": {
    "colab": {
      "private_outputs": true,
      "provenance": [],
      "authorship_tag": "ABX9TyPPz0Oo0/k6fg3cIrsk0RuG",
      "include_colab_link": true
    },
    "kernelspec": {
      "name": "python3",
      "display_name": "Python 3"
    },
    "language_info": {
      "name": "python"
    }
  },
  "cells": [
    {
      "cell_type": "markdown",
      "metadata": {
        "id": "view-in-github",
        "colab_type": "text"
      },
      "source": [
        "<a href=\"https://colab.research.google.com/github/Newbim/HYAI/blob/main/HYAI3_SVM.ipynb\" target=\"_parent\"><img src=\"https://colab.research.google.com/assets/colab-badge.svg\" alt=\"Open In Colab\"/></a>"
      ]
    },
    {
      "cell_type": "markdown",
      "source": [
        "# 선형적 관계를 가진 데이터 생성"
      ],
      "metadata": {
        "id": "HWeAAyafJJqk"
      }
    },
    {
      "cell_type": "code",
      "execution_count": null,
      "metadata": {
        "id": "VzpDxLmYJFyc"
      },
      "outputs": [],
      "source": [
        "import numpy as np\n",
        "\n",
        "x = np.array([\n",
        "    [-2, 2],\n",
        "    [4, 1],\n",
        "    [7, 6],\n",
        "    [2, 4],\n",
        "    [11, 2],\n",
        "\n",
        "    [34, 4],\n",
        "    [25, 10],\n",
        "    [21, 10],\n",
        "    [24, 4],\n",
        "    [43, 2],\n",
        "])\n",
        "y = np.array([-1, -1, -1, -1, -1,     1, 1, 1, 1, 1])"
      ]
    },
    {
      "cell_type": "code",
      "source": [
        "import matplotlib.pyplot as plt\n",
        "\n",
        "for val, inp in enumerate(x):\n",
        "    if y[val] == -1:\n",
        "        plt.scatter(inp[0], inp[1], s = 100, c = 'r')\n",
        "    else:\n",
        "        plt.scatter(inp[0], inp[1], s = 100, c = 'b')"
      ],
      "metadata": {
        "id": "u7kT5f7rJ0ZW"
      },
      "execution_count": null,
      "outputs": []
    },
    {
      "cell_type": "markdown",
      "source": [
        "# 선형 서포트 벡터 머신 구현"
      ],
      "metadata": {
        "id": "ast0FCWqKkQt"
      }
    },
    {
      "cell_type": "code",
      "source": [
        "from sklearn.svm import SVC\n",
        "import numpy as np\n",
        "\n",
        "model = SVC(kernel = 'linear', C = 10) # 하이퍼파라미터 C, kernel = (ex. y=x^2)\n",
        "model.fit(x, y) "
      ],
      "metadata": {
        "id": "BFGxnPa0Kh1K"
      },
      "execution_count": null,
      "outputs": []
    },
    {
      "cell_type": "code",
      "source": [
        "import matplotlib.pyplot as plt\n",
        "\n",
        "w = model.coef_[0]\n",
        "a = -w[0] / w[1]\n",
        "xx = np.linspace(10, 20)\n",
        "yy = a * xx - (model.intercept_[0]/w[1])\n",
        "\n",
        "\n",
        "for val, inp in enumerate(x):\n",
        "    if y[val] == -1:\n",
        "        plt.scatter(inp[0], inp[1], s = 100, c = 'r')\n",
        "    else:\n",
        "        plt.scatter(inp[0], inp[1], s = 100, c = 'b')\n",
        "\n",
        "ax = plt.gca()\n",
        "plt.plot(xx, yy, C='g')"
      ],
      "metadata": {
        "id": "ZDPDDAmtLJgf"
      },
      "execution_count": null,
      "outputs": []
    },
    {
      "cell_type": "code",
      "source": [
        "print(model.support_vectors_)"
      ],
      "metadata": {
        "id": "stvNOx06MKsD"
      },
      "execution_count": null,
      "outputs": []
    },
    {
      "cell_type": "code",
      "source": [
        "model.support_vectors_"
      ],
      "metadata": {
        "id": "RFGbUxbiPChH"
      },
      "execution_count": null,
      "outputs": []
    },
    {
      "cell_type": "code",
      "source": [
        "from matplotlib.widgets import Circle\n",
        "import matplotlib.pyplot as plt\n",
        "\n",
        "w = model.coef_[0]\n",
        "a = -w[0] / w[1]\n",
        "xx = np.linspace(10, 20)\n",
        "yy = a * xx - (model.intercept_[0]/w[1])\n",
        "\n",
        "\n",
        "for val, inp in enumerate(x):\n",
        "    if y[val] == -1:\n",
        "        plt.scatter(inp[0], inp[1], s = 100, c = 'r')\n",
        "    else:\n",
        "        plt.scatter(inp[0], inp[1], s = 100, c = 'b')\n",
        "\n",
        "ax = plt.gca()\n",
        "plt.plot(xx, yy, C='g')\n",
        "\n",
        "for i in range(len(model.support_vectors_)): #3개가 안뜨는 이유 길이를 잘못 잡음?\n",
        "    circle = plt.Circle(model.support_vectors_[i], 1.5, color = 'black', fill = False)\n",
        "    ax.add_patch(circle)"
      ],
      "metadata": {
        "id": "b_sFw5ztMWro"
      },
      "execution_count": null,
      "outputs": []
    },
    {
      "cell_type": "markdown",
      "source": [
        "# 선형 서포트 벡터 머신 예측"
      ],
      "metadata": {
        "id": "3pENX9F5OBOP"
      }
    },
    {
      "cell_type": "code",
      "source": [
        "model.predict([[-10, 2]])"
      ],
      "metadata": {
        "id": "ayRymA7zOPUk"
      },
      "execution_count": null,
      "outputs": []
    },
    {
      "cell_type": "markdown",
      "source": [
        "# 비선형 관계를 가진 데이터 생성 "
      ],
      "metadata": {
        "id": "SHjV1Eb1OYuL"
      }
    },
    {
      "cell_type": "code",
      "source": [
        "from sklearn.datasets import make_circles\n",
        "\n",
        "x_nl, y_nl = make_circles(noise = 0.1, factor = 0.2, random_state = 1)\n",
        "for val, inp in enumerate(x_nl):\n",
        "    if y_nl[val] == 1:\n",
        "        plt.scatter(inp[0], inp[1], s = 100, c = 'r')\n",
        "    else:\n",
        "        plt.scatter(inp[0], inp[1], s = 100, c = 'b')"
      ],
      "metadata": {
        "id": "rrN_3EfFOXVN"
      },
      "execution_count": null,
      "outputs": []
    },
    {
      "cell_type": "markdown",
      "source": [
        "# 커널 트릭 시각화"
      ],
      "metadata": {
        "id": "1TcsusXsPfqA"
      }
    },
    {
      "cell_type": "code",
      "source": [
        "import math\n",
        "fig = plt.figure(figsize = (15, 10))\n",
        "ax = fig.add_subplot(111, projection = '3d')\n",
        "for val, inp in enumerate(x_nl):\n",
        "    if y_nl[val] == 1:\n",
        "        x, y, z = [inp[0] * inp[0], math.sqrt(2) * inp[0] * inp[1], inp[1] * inp[1]]\n",
        "        # x, y, z = [inp[0] * inp[0]], [math.sqrt(2) * inp[0] * inp[1]], [inp[1] * inp[1]]\n",
        "        ax.scatter(x, y, z, color = 'r')\n",
        "    else:\n",
        "        x, y, z = [inp[0] * inp[0], math.sqrt(2) * inp[0] * inp[1], inp[1] * inp[1]]\n",
        "        ax.scatter(x, y, z, color = 'b')"
      ],
      "metadata": {
        "id": "NEgb46fYPWud"
      },
      "execution_count": null,
      "outputs": []
    },
    {
      "cell_type": "markdown",
      "source": [
        "# 비선형 서포트 벡터 머신 구현"
      ],
      "metadata": {
        "id": "ZL3Q2T9ZRZ1a"
      }
    },
    {
      "cell_type": "code",
      "source": [
        "model = SVC(kernel = 'rbf', C = 10) # rbf -> rbf 커널\n",
        "model.fit(x_nl, y_nl)"
      ],
      "metadata": {
        "id": "n-U7bCZ_Q8kT"
      },
      "execution_count": null,
      "outputs": []
    },
    {
      "cell_type": "code",
      "source": [
        "for val, inp in enumerate(x_nl):\n",
        "    if y_nl[val] == 1:\n",
        "        plt.scatter(inp[0], inp[1], s = 100, c = 'r')\n",
        "    else:\n",
        "        plt.scatter(inp[0], inp[1], s = 100, c = 'b')"
      ],
      "metadata": {
        "id": "fPmKmWuZRiyi"
      },
      "execution_count": null,
      "outputs": []
    },
    {
      "cell_type": "code",
      "source": [
        "model.predict([[0, 0]])"
      ],
      "metadata": {
        "id": "nSB4CSq_Rt6S"
      },
      "execution_count": null,
      "outputs": []
    },
    {
      "cell_type": "markdown",
      "source": [
        "# Grid Search"
      ],
      "metadata": {
        "id": "PB0zCR7tSQC8"
      }
    },
    {
      "cell_type": "code",
      "source": [
        "import numpy as np\n",
        "\n",
        "x = np.array([\n",
        "    [-2, 2],\n",
        "    [4, 1],\n",
        "    [7, 6],\n",
        "    [2, 4],\n",
        "    [11, 2],\n",
        "\n",
        "    [34, 4],\n",
        "    [25, 10],\n",
        "    [21, 10],\n",
        "    [24, 4],\n",
        "    [43, 2],\n",
        "])\n",
        "y = np.array([-1, -1, -1, -1, -1,     1, 1, 1, 1, 1])"
      ],
      "metadata": {
        "id": "75RP43dcSVKJ"
      },
      "execution_count": null,
      "outputs": []
    },
    {
      "cell_type": "code",
      "source": [
        "import matplotlib.pyplot as plt\n",
        "from sklearn.svm import SVC\n",
        "from sklearn.model_selection import StratifiedShuffleSplit\n",
        "from sklearn.model_selection import GridSearchCV\n",
        "\n",
        "C_range = np.logspace(-2, 10, 13)\n",
        "\n",
        "param_grid = dict(C=C_range)\n",
        "cv = StratifiedShuffleSplit(n_splits=5, test_size=0.2, random_state=42)\n",
        "grid = GridSearchCV(SVC(), param_grid=param_grid, cv=cv)\n",
        "grid.fit(x, y)\n",
        "\n",
        "print(\n",
        "    \"The best parameters are %s with a score of %0.2f\" \n",
        "    % (grid.best_params_, grid.best_score_)\n",
        ")"
      ],
      "metadata": {
        "id": "JKxzHPIERy-j"
      },
      "execution_count": null,
      "outputs": []
    },
    {
      "cell_type": "code",
      "source": [
        "C_2d_range = [0.000000000001, 1, 1000000000]\n",
        "classifiers = []\n",
        "for C in C_2d_range:\n",
        "    \n",
        "    clf = SVC(kernel = 'linear',C=C)\n",
        "    clf.fit(x, y)\n",
        "    classifiers.append((C, clf))\n",
        "\n",
        "plt.figure(figsize=(25, 25))\n",
        "xx, yy = np.meshgrid(np.linspace(-10, 45, 100), np.linspace(-10, 15, 200))\n",
        "\n",
        "for k, (C, clf) in enumerate(classifiers):\n",
        "    # evaluate decision function in a grid\n",
        "    Z = clf.decision_function(np.c_[xx.ravel(), yy.ravel()])\n",
        "    Z = Z.reshape(xx.shape)\n",
        "\n",
        "    # visualize decision function for these parameters\n",
        "    plt.subplot(len(C_2d_range), len(C_2d_range), k + 1)\n",
        "    plt.title(\"C=10^%d\" % (np.log10(C)), size=\"medium\")\n",
        "\n",
        "    # visualize parameter's effect on decision function\n",
        "    plt.pcolormesh(xx, yy, -Z, cmap=plt.cm.RdBu)\n",
        "    plt.scatter(x[:, 0], x[:, 1], c=y, cmap=plt.cm.RdBu_r, edgecolors=\"k\")\n",
        "    plt.xticks(())\n",
        "    plt.yticks(())\n",
        "    plt.axis(\"tight\")\n",
        "\n",
        "scores = grid.cv_results_[\"mean_test_score\"].reshape(len(C_range))"
      ],
      "metadata": {
        "id": "-GNYhIrjSJhw"
      },
      "execution_count": null,
      "outputs": []
    },
    {
      "cell_type": "markdown",
      "source": [
        "적절한 C 값 찾기. 왼쪾 사진의 경우 가장 가까운 두 점을 많이 영향 받음. \n",
        "C 를 키우면 soft margin vector machine이 됨."
      ],
      "metadata": {
        "id": "LkduhJfPTYGO"
      }
    },
    {
      "cell_type": "code",
      "source": [
        "import matplotlib.pyplot as plt\n",
        "from sklearn.svm import SVC\n",
        "from sklearn.model_selection import StratifiedShuffleSplit\n",
        "from sklearn.model_selection import GridSearchCV\n",
        "\n",
        "C_range = np.logspace(-2, 10, 13) # -2부터 10까지 딕셔너리? grid search 는 그리드를 만드는 것. \n",
        "gamma_range = np.logspace(-9, 3, 13)\n",
        "\n",
        "param_grid = dict(gamma=gamma_range, C=C_range)\n",
        "cv = StratifiedShuffleSplit(n_splits=5, test_size=0.2, random_state=42)\n",
        "grid = GridSearchCV(SVC(), param_grid=param_grid, cv=cv)\n",
        "grid.fit(x_nl, y_nl)\n",
        "\n",
        "print(\n",
        "    \"The best parameters are %s with a score of %0.2f\" \n",
        "    % (grid.best_params_, grid.best_score_)\n",
        ")"
      ],
      "metadata": {
        "id": "scPHPmE1Tf6L"
      },
      "execution_count": null,
      "outputs": []
    },
    {
      "cell_type": "code",
      "source": [
        "C_2d_range = [0.01, 1, 100]\n",
        "gamma_2d_range = [0.01, 1, 100]\n",
        "classifiers = []\n",
        "for C in C_2d_range:\n",
        "    for gamma in gamma_2d_range:\n",
        "        clf = SVC(kernel = 'rbf',C=C, gamma=gamma)\n",
        "        clf.fit(x_nl, y_nl)\n",
        "        classifiers.append((C, gamma, clf))\n",
        "\n",
        "plt.figure(figsize=(25, 25)) # 사진 크기. \n",
        "xx, yy = np.meshgrid(np.linspace(-2, 2, 200), np.linspace(-2, 2, 200))\n",
        "\n",
        "for k, (C, gamma, clf) in enumerate(classifiers):\n",
        "    # evaluate decision function in a grid\n",
        "    Z = clf.decision_function(np.c_[xx.ravel(), yy.ravel()])\n",
        "    Z = Z.reshape(xx.shape)\n",
        "\n",
        "    # visualize decision function for these parameters\n",
        "    plt.subplot(len(C_2d_range), len(gamma_2d_range), k + 1)\n",
        "    plt.title(\"gamma=10^%d, C=10^%d\" % (np.log10(gamma), np.log10(C)), size=\"medium\")\n",
        "\n",
        "    # visualize parameter's effect on decision function\n",
        "    plt.pcolormesh(xx, yy, -Z, cmap=plt.cm.RdBu)\n",
        "    plt.scatter(x_nl[:, 0], x_nl[:, 1], c=y_nl, cmap=plt.cm.RdBu_r, edgecolors=\"k\")\n",
        "    plt.xticks(())\n",
        "    plt.yticks(())\n",
        "    plt.axis(\"tight\")\n",
        "\n",
        "scores = grid.cv_results_[\"mean_test_score\"].reshape(len(C_range), len(gamma_range))"
      ],
      "metadata": {
        "id": "Ro2RBqU5ThqE"
      },
      "execution_count": null,
      "outputs": []
    },
    {
      "cell_type": "markdown",
      "source": [
        "아래쪽으로 갈수록 C가 커짐. C -> 이상치에 대한 것. \n",
        "\n",
        "오른쪽으로 갈수록 gamma 의 값이 올라감. 오차(표준편차)가 적어짐. \n",
        "\n",
        "올라갈수록 분류가 세밀하게 잡혀짐. \n",
        "\n",
        "이 원형 그래프는 gamma에 영향을 많이 받음. "
      ],
      "metadata": {
        "id": "-cDD1gZNT8-5"
      }
    }
  ]
}